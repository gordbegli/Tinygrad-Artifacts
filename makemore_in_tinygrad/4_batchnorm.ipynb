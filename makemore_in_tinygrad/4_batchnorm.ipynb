{
 "cells": [
  {
   "cell_type": "code",
   "execution_count": 24,
   "metadata": {},
   "outputs": [
    {
     "name": "stdout",
     "output_type": "stream",
     "text": [
      "Requirement already satisfied: pip in /usr/local/lib/python3.10/dist-packages (24.2)\n",
      "\u001b[33mWARNING: Running pip as the 'root' user can result in broken permissions and conflicting behaviour with the system package manager, possibly rendering your system unusable.It is recommended to use a virtual environment instead: https://pip.pypa.io/warnings/venv. Use the --root-user-action option if you know what you are doing and want to suppress this warning.\u001b[0m\u001b[33m\n",
      "\u001b[0mRequirement already satisfied: numpy in /usr/local/lib/python3.10/dist-packages (1.24.1)\n",
      "\u001b[33mWARNING: Running pip as the 'root' user can result in broken permissions and conflicting behaviour with the system package manager, possibly rendering your system unusable.It is recommended to use a virtual environment instead: https://pip.pypa.io/warnings/venv. Use the --root-user-action option if you know what you are doing and want to suppress this warning.\u001b[0m\u001b[33m\n",
      "\u001b[0mRequirement already satisfied: tinygrad in /usr/local/lib/python3.10/dist-packages (0.9.2)\n",
      "Requirement already satisfied: numpy in /usr/local/lib/python3.10/dist-packages (from tinygrad) (1.24.1)\n",
      "\u001b[33mWARNING: Running pip as the 'root' user can result in broken permissions and conflicting behaviour with the system package manager, possibly rendering your system unusable.It is recommended to use a virtual environment instead: https://pip.pypa.io/warnings/venv. Use the --root-user-action option if you know what you are doing and want to suppress this warning.\u001b[0m\u001b[33m\n",
      "\u001b[0mRequirement already satisfied: tqdm in /usr/local/lib/python3.10/dist-packages (4.66.5)\n",
      "\u001b[33mWARNING: Running pip as the 'root' user can result in broken permissions and conflicting behaviour with the system package manager, possibly rendering your system unusable.It is recommended to use a virtual environment instead: https://pip.pypa.io/warnings/venv. Use the --root-user-action option if you know what you are doing and want to suppress this warning.\u001b[0m\u001b[33m\n",
      "\u001b[0m"
     ]
    }
   ],
   "source": [
    "!python -m pip install --upgrade pip && pip install numpy && pip install tinygrad && pip install tqdm"
   ]
  },
  {
   "cell_type": "code",
   "execution_count": 26,
   "metadata": {},
   "outputs": [],
   "source": [
    "import numpy as np\n",
    "from tinygrad.helpers import Timing\n",
    "from tinygrad import dtypes, nn, Tensor\n",
    "from tinygrad.nn.optim import SGD\n",
    "import random\n",
    "from tinygrad.nn.optim import AdamW\n",
    "from tinygrad import TinyJit\n",
    "import tqdm"
   ]
  },
  {
   "cell_type": "code",
   "execution_count": 27,
   "metadata": {},
   "outputs": [],
   "source": [
    "# Load and shuffle words\n",
    "with open('./sandbox/names.txt') as f:\n",
    "    words = f.read().splitlines()\n",
    "random.seed(42)\n",
    "random.shuffle(words)\n",
    "\n",
    "# Create character mappings\n",
    "chars = sorted(set(''.join(words)))\n",
    "stoi = {ch: i + 1 for i, ch in enumerate(chars)}\n",
    "stoi['.'] = 0\n",
    "itos = {i: ch for ch, i in stoi.items()}\n",
    "\n",
    "block_size = 3\n",
    "\n",
    "def build_dataset(words, block_size, stoi):\n",
    "    X, Y = [], []\n",
    "    context = [0] * block_size\n",
    "    for word in words:\n",
    "        for ch in word + '.':\n",
    "            X.append(context.copy())\n",
    "            Y.append(stoi[ch])\n",
    "            context = context[1:] + [stoi[ch]]\n",
    "    return Tensor(X), Tensor(Y)\n",
    "\n",
    "# Split data indices\n",
    "n1, n2 = int(0.8 * len(words)), int(0.9 * len(words))\n",
    "\n",
    "# Build datasets\n",
    "Xtrain, Ytrain = build_dataset(words[:n1], block_size, stoi)\n",
    "Xdev, Ydev = build_dataset(words[n1:n2], block_size, stoi)\n",
    "Xtest, Ytest = build_dataset(words[n2:], block_size, stoi)"
   ]
  },
  {
   "cell_type": "code",
   "execution_count": 28,
   "metadata": {},
   "outputs": [],
   "source": [
    "from typing import List, Callable\n",
    "class Model:\n",
    "    def __init__(self):\n",
    "        self.layers: List[Callable[[Tensor], Tensor]] = [\n",
    "            nn.Linear(30, 200, bias=False), Tensor.relu,\n",
    "            nn.BatchNorm(200), Tensor.tanh,\n",
    "            nn.Linear(200, 200, bias=False), Tensor.relu,\n",
    "            nn.BatchNorm(200), Tensor.tanh,\n",
    "            nn.Linear(200, 200, bias=False), Tensor.relu,\n",
    "            nn.BatchNorm(200), Tensor.tanh,\n",
    "            nn.Linear(200, 200, bias=False), Tensor.relu,\n",
    "            nn.BatchNorm(200), Tensor.tanh,\n",
    "            nn.Linear(200, 200, bias=False), Tensor.relu,\n",
    "            nn.BatchNorm(200), Tensor.tanh,\n",
    "            nn.Linear(200, 27, bias=False),\n",
    "            nn.BatchNorm(27)\n",
    "        ]\n",
    "            \n",
    "    def __call__(self, x:Tensor) -> Tensor: return x.sequential(self.layers)\n",
    "    \n",
    "character_embeddings = Tensor.randn(27, 10)"
   ]
  },
  {
   "cell_type": "code",
   "execution_count": 34,
   "metadata": {},
   "outputs": [
    {
     "name": "stderr",
     "output_type": "stream",
     "text": [
      "Training: 100%|██████████| 50000/50000 [03:47<00:00, 219.35it/s]\n"
     ]
    }
   ],
   "source": [
    "from tqdm import tqdm\n",
    "\n",
    "model = Model()\n",
    "learning_rate = 0.1\n",
    "\n",
    "opt = nn.optim.AdamW(nn.state.get_parameters(model), lr=learning_rate)\n",
    "\n",
    "@TinyJit\n",
    "def training_step(Xb, Yb):\n",
    "    embeddings = character_embeddings[Xb]\n",
    "    logits = model(embeddings.view(embeddings.shape[0], -1))\n",
    "    loss = logits.sparse_categorical_crossentropy(Yb)\n",
    "    opt.zero_grad()\n",
    "    loss.backward()\n",
    "    opt.step()\n",
    "    return loss\n",
    "\n",
    "with Tensor.train():\n",
    "    for _ in tqdm(range(50000), desc=\"Training\"):\n",
    "        ix = Tensor.randint(1024, low=0, high=Xtrain.shape[0]) #32 --> 1024, H100 go brr\n",
    "        loss = training_step(Xtrain[ix], Ytrain[ix])"
   ]
  },
  {
   "cell_type": "code",
   "execution_count": 46,
   "metadata": {},
   "outputs": [
    {
     "name": "stdout",
     "output_type": "stream",
     "text": [
      "Validation loss: 2.2304\n"
     ]
    }
   ],
   "source": [
    "@TinyJit\n",
    "def calculate_loss(X, Y):\n",
    "    embeddings = character_embeddings[X]\n",
    "    logits = model(embeddings.view(embeddings.shape[0], -1))\n",
    "    return logits.sparse_categorical_crossentropy(Y)\n",
    "\n",
    "# After the training loop\n",
    "Tensor.no_grad = True  # Disable gradient computation\n",
    "dev_loss = calculate_loss(Xdev, Ydev)\n",
    "print(f\"Validation loss: {dev_loss.item():.4f}\")\n",
    "Tensor.no_grad = False "
   ]
  },
  {
   "cell_type": "code",
   "execution_count": 51,
   "metadata": {},
   "outputs": [
    {
     "name": "stdout",
     "output_type": "stream",
     "text": [
      "Generated name: delledue\n",
      "Generated name: haenaluon\n",
      "Generated name: aviaur\n",
      "Generated name: hariyn\n",
      "Generated name: pareth\n",
      "Generated name: blaio\n",
      "Generated name: kir\n",
      "Generated name: natreella\n",
      "Generated name: yaahurtishadalla\n",
      "Generated name: melyn\n"
     ]
    }
   ],
   "source": [
    "for _ in range(10):\n",
    "    context = [0] * 3  # Start with '.' characters\n",
    "    generated_name = ''\n",
    "\n",
    "    while True:\n",
    "        # Convert context to embeddings\n",
    "        context_tensor = Tensor(context)\n",
    "        embeddings = character_embeddings[context_tensor]\n",
    "        context_embeddings = embeddings.reshape(1, -1)  # Reshape to (1, n) where n is the total number of embedding features\n",
    "        \n",
    "        # Get model output\n",
    "        output = model(context_embeddings)\n",
    "        \n",
    "        # Sample the next character\n",
    "        probs = output.softmax().numpy().flatten()  # Flatten the output to make it 1-dimensional\n",
    "        next_char_index = np.random.choice(len(probs), p=probs)\n",
    "        next_char = itos[next_char_index]\n",
    "        \n",
    "        if next_char == '.':\n",
    "            break  # End of name\n",
    "        \n",
    "        generated_name += next_char\n",
    "        \n",
    "        # Update context\n",
    "        context = context[1:] + [next_char_index]\n",
    "\n",
    "    print(f\"Generated name: {generated_name}\")"
   ]
  }
 ],
 "metadata": {
  "kernelspec": {
   "display_name": "Python 3 (ipykernel)",
   "language": "python",
   "name": "python3"
  },
  "language_info": {
   "codemirror_mode": {
    "name": "ipython",
    "version": 3
   },
   "file_extension": ".py",
   "mimetype": "text/x-python",
   "name": "python",
   "nbconvert_exporter": "python",
   "pygments_lexer": "ipython3",
   "version": "3.10.12"
  }
 },
 "nbformat": 4,
 "nbformat_minor": 4
}
